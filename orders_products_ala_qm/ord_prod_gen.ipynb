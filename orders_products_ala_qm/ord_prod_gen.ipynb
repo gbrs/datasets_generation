{
 "cells": [
  {
   "cell_type": "markdown",
   "id": "64f8dc0f",
   "metadata": {},
   "source": [
    "# Генерация данных по продажам а-ля qm"
   ]
  },
  {
   "cell_type": "markdown",
   "id": "a2788040",
   "metadata": {},
   "source": [
    "![](ord_prod_bd_scheme.png)"
   ]
  },
  {
   "cell_type": "markdown",
   "id": "4dd9093f",
   "metadata": {},
   "source": [
    "Входные данные: только таблица products: айди, название, категория, цена, затраты, частота покупок.\n",
    "\n",
    "Создать список id продуктов с повторами в соответствии с частотой покупок - product_ids.\n",
    "\n",
    "Функция create_new_users(last_user_id, number_of_new_users=250):\n",
    "__генерим number_of_new_users *= (1 + 0.25 * снр)\n",
    "\n",
    "В первый месяц создать 250± пользователей. \n",
    "\n",
    "В последующие месяцы в начале месяца:\n",
    "- имитируем отток пользователей. Шафлим список юзеров. Убираем долю± клиентов (50%);\n",
    "- добавлять так, чтобы было +250± человек ежемесячно. Тогда рост базы будет постепенно уменьшаться в процентах. Создаем список новых пользователей, шафлим и какие-то слева элементы добавляем еще раз, чтобы сымитировать разное время жизни клиентов. 0.04 - x7, 0.08 - x5, 0.11 - x3, 0.17 - x2. Получится, что долго живущие клиенты и покупать будут чаще, во всяком случае в начале своего жизненного пути.\n",
    "\n",
    "Генерируем какое количество покупок в день случится. Число пользователей * среднее базовое число покупок в месяц / 30 ±.  \n",
    "__Выбираем случайного пользователя из списка.  \n",
    "____По остатку при делении id количество продуктов ± вычисляем. %11: <1 - 1, <3 - 2, <6 - 3, <9 - 4, <10 - 5, <11 - 6  \n",
    "______Выбираем случайный продукт из списка и генерим случайное количество продуктов [1, 2, 3, 4, 5], [0.58, 0.28, 0.11, 0.02, 0.01]  "
   ]
  },
  {
   "cell_type": "code",
   "execution_count": 73,
   "id": "6c86f588",
   "metadata": {},
   "outputs": [],
   "source": [
    "import random\n",
    "import numpy as np\n",
    "import pandas as pd\n",
    "import matplotlib.pyplot as plt\n",
    "import seaborn as sns"
   ]
  },
  {
   "cell_type": "code",
   "execution_count": null,
   "id": "c795a35e",
   "metadata": {},
   "outputs": [],
   "source": []
  },
  {
   "cell_type": "code",
   "execution_count": 373,
   "id": "22f7b6b3",
   "metadata": {},
   "outputs": [],
   "source": [
    "def create_new_users(users_id: list[int], last_user_id: int, number_of_new_users: int=8, volatility=0.3) -> int:\n",
    "    number_of_new_users += int(number_of_new_users * volatility * random.normalvariate())\n",
    "    if number_of_new_users < 1:\n",
    "        number_of_new_users %= 100\n",
    "    new_users_list = [*range(last_user_id + 1, last_user_id + number_of_new_users + 1)]\n",
    "    random.shuffle(new_users_list)\n",
    "    for share in [0.48, 0.33, 0.21, 0.12, 0.04, 0.02]:\n",
    "        new_users_list.extend(new_users_list[:int(share * number_of_new_users)])\n",
    "    users_id.extend(new_users_list)\n",
    "    last_user_id += number_of_new_users\n",
    "    return last_user_id, users_id"
   ]
  },
  {
   "cell_type": "code",
   "execution_count": 387,
   "id": "8f2c0438",
   "metadata": {},
   "outputs": [
    {
     "data": {
      "text/plain": [
       "([0, 4, 6, 2, 5, 3, 1, 4, 6, 4, 4], 7)"
      ]
     },
     "execution_count": 387,
     "metadata": {},
     "output_type": "execute_result"
    }
   ],
   "source": [
    "last_user_id, users_id = create_new_users([0], 0)\n",
    "users_id, len(set(users_id))"
   ]
  },
  {
   "cell_type": "code",
   "execution_count": null,
   "metadata": {},
   "outputs": [],
   "source": []
  },
  {
   "cell_type": "markdown",
   "id": "8f83e7cb",
   "metadata": {},
   "source": [
    "Создадим список айдишников товаров, в котором они будут повторяться по несколько раз в зависимости от частоты покупок этого товара:"
   ]
  },
  {
   "cell_type": "code",
   "execution_count": 62,
   "id": "87ca0ad5",
   "metadata": {},
   "outputs": [
    {
     "data": {
      "text/plain": [
       "array([ 8, 25, 23, 23, 13, 13,  9, 12, 22, 22])"
      ]
     },
     "execution_count": 62,
     "metadata": {},
     "output_type": "execute_result"
    }
   ],
   "source": [
    "df = pd.read_excel('products.xlsx')\n",
    "df.head()\n",
    "\n",
    "product_ids = []\n",
    "for id, freq in zip(df['product_id'], df['freq']):\n",
    "    product_ids.extend([id] * freq)\n",
    "\n",
    "product_ids = np.array(product_ids)\n",
    "product_ids[:10]"
   ]
  },
  {
   "cell_type": "code",
   "execution_count": null,
   "id": "a6d17506",
   "metadata": {},
   "outputs": [],
   "source": []
  },
  {
   "cell_type": "code",
   "execution_count": null,
   "id": "20e184cc",
   "metadata": {},
   "outputs": [],
   "source": []
  },
  {
   "cell_type": "code",
   "execution_count": null,
   "metadata": {},
   "outputs": [],
   "source": []
  },
  {
   "cell_type": "code",
   "execution_count": null,
   "id": "60c073ba",
   "metadata": {},
   "outputs": [],
   "source": []
  },
  {
   "cell_type": "code",
   "execution_count": null,
   "id": "0d5cbf02",
   "metadata": {},
   "outputs": [],
   "source": []
  },
  {
   "cell_type": "code",
   "execution_count": null,
   "id": "ad1cd269",
   "metadata": {},
   "outputs": [],
   "source": []
  },
  {
   "cell_type": "code",
   "execution_count": null,
   "id": "8a12b7d1",
   "metadata": {},
   "outputs": [],
   "source": []
  },
  {
   "cell_type": "code",
   "execution_count": null,
   "id": "35843531",
   "metadata": {},
   "outputs": [],
   "source": []
  }
 ],
 "metadata": {
  "kernelspec": {
   "display_name": "base",
   "language": "python",
   "name": "python3"
  },
  "language_info": {
   "codemirror_mode": {
    "name": "ipython",
    "version": 3
   },
   "file_extension": ".py",
   "mimetype": "text/x-python",
   "name": "python",
   "nbconvert_exporter": "python",
   "pygments_lexer": "ipython3",
   "version": "3.12.7"
  }
 },
 "nbformat": 4,
 "nbformat_minor": 5
}
