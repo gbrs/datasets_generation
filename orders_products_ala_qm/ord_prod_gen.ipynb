{
 "cells": [
  {
   "cell_type": "markdown",
   "id": "64f8dc0f",
   "metadata": {},
   "source": [
    "# Генерация данных по продажам а-ля qm"
   ]
  },
  {
   "cell_type": "markdown",
   "id": "a2788040",
   "metadata": {},
   "source": [
    "![](ord_prod_bd_scheme.png)"
   ]
  },
  {
   "cell_type": "markdown",
   "id": "4dd9093f",
   "metadata": {},
   "source": [
    "Входные данные: только таблица products: айди, название, категория, цена, затраты, частота покупок.\n",
    "\n",
    "Создать список id продуктов с повторами в соответствии с частотой покупок - product_ids.\n",
    "\n",
    "Функция create_new_users(last_user_id, number_of_new_users=250):\n",
    "__генерим number_of_new_users *= (1 + 0.25 * снр)\n",
    "\n",
    "В первый месяц создать 250± пользователей. \n",
    "\n",
    "В последующие месяцы в начале месяца:\n",
    "- имитируем отток пользователей. Шафлим список юзеров. Убираем долю± клиентов (50%);\n",
    "- добавлять так, чтобы было +250± человек ежемесячно. Тогда рост базы будет постепенно уменьшаться в процентах. Создаем список новых пользователей, шафлим и какие-то слева элементы добавляем еще раз, чтобы сымитировать разное время жизни клиентов. 0.04 - x7, 0.08 - x5, 0.11 - x3, 0.17 - x2. Получится, что долго живущие клиенты и покупать будут чаще, во всяком случае в начале своего жизненного пути.\n",
    "\n",
    "Генерируем какое количество покупок в день случится. Число пользователей * среднее базовое число покупок в месяц / 30 ±.  \n",
    "__Выбираем случайного пользователя из списка.  \n",
    "____По остатку при делении id количество продуктов ± вычисляем. %11: <1 - 1, <3 - 2, <6 - 3, <9 - 4, <10 - 5, <11 - 6  \n",
    "______Выбираем случайный продукт из списка и генерим случайное количество продуктов [1, 2, 3, 4, 5], [0.58, 0.28, 0.11, 0.02, 0.01]  "
   ]
  },
  {
   "cell_type": "code",
   "execution_count": 1,
   "id": "6c86f588",
   "metadata": {},
   "outputs": [],
   "source": [
    "import random\n",
    "import numpy as np\n",
    "import pandas as pd\n",
    "import matplotlib.pyplot as plt\n",
    "import seaborn as sns"
   ]
  },
  {
   "cell_type": "code",
   "execution_count": null,
   "id": "c795a35e",
   "metadata": {},
   "outputs": [],
   "source": []
  },
  {
   "cell_type": "markdown",
   "id": "e50c7cd1",
   "metadata": {},
   "source": [
    "## Создание справочников\n",
    "На основе исходного файла создадим таблицы-справочники:"
   ]
  },
  {
   "cell_type": "code",
   "execution_count": 19,
   "id": "11298545",
   "metadata": {},
   "outputs": [
    {
     "data": {
      "text/html": [
       "<div>\n",
       "<style scoped>\n",
       "    .dataframe tbody tr th:only-of-type {\n",
       "        vertical-align: middle;\n",
       "    }\n",
       "\n",
       "    .dataframe tbody tr th {\n",
       "        vertical-align: top;\n",
       "    }\n",
       "\n",
       "    .dataframe thead th {\n",
       "        text-align: right;\n",
       "    }\n",
       "</style>\n",
       "<table border=\"1\" class=\"dataframe\">\n",
       "  <thead>\n",
       "    <tr style=\"text-align: right;\">\n",
       "      <th></th>\n",
       "      <th>product_id</th>\n",
       "      <th>product_name</th>\n",
       "      <th>category</th>\n",
       "      <th>price</th>\n",
       "      <th>cost</th>\n",
       "      <th>freq</th>\n",
       "    </tr>\n",
       "  </thead>\n",
       "  <tbody>\n",
       "    <tr>\n",
       "      <th>0</th>\n",
       "      <td>8</td>\n",
       "      <td>Гномье кольцо</td>\n",
       "      <td>артефакторика</td>\n",
       "      <td>450</td>\n",
       "      <td>300</td>\n",
       "      <td>1</td>\n",
       "    </tr>\n",
       "    <tr>\n",
       "      <th>1</th>\n",
       "      <td>25</td>\n",
       "      <td>Ёлка-палка</td>\n",
       "      <td>артефакторика</td>\n",
       "      <td>300</td>\n",
       "      <td>200</td>\n",
       "      <td>1</td>\n",
       "    </tr>\n",
       "    <tr>\n",
       "      <th>2</th>\n",
       "      <td>23</td>\n",
       "      <td>Жало</td>\n",
       "      <td>артефакторика</td>\n",
       "      <td>650</td>\n",
       "      <td>450</td>\n",
       "      <td>2</td>\n",
       "    </tr>\n",
       "    <tr>\n",
       "      <th>3</th>\n",
       "      <td>13</td>\n",
       "      <td>Кольцо нибелунга</td>\n",
       "      <td>артефакторика</td>\n",
       "      <td>800</td>\n",
       "      <td>550</td>\n",
       "      <td>2</td>\n",
       "    </tr>\n",
       "    <tr>\n",
       "      <th>4</th>\n",
       "      <td>9</td>\n",
       "      <td>Нарсил</td>\n",
       "      <td>артефакторика</td>\n",
       "      <td>700</td>\n",
       "      <td>450</td>\n",
       "      <td>1</td>\n",
       "    </tr>\n",
       "  </tbody>\n",
       "</table>\n",
       "</div>"
      ],
      "text/plain": [
       "   product_id      product_name       category  price  cost  freq\n",
       "0           8     Гномье кольцо  артефакторика    450   300     1\n",
       "1          25        Ёлка-палка  артефакторика    300   200     1\n",
       "2          23              Жало  артефакторика    650   450     2\n",
       "3          13  Кольцо нибелунга  артефакторика    800   550     2\n",
       "4           9            Нарсил  артефакторика    700   450     1"
      ]
     },
     "execution_count": 19,
     "metadata": {},
     "output_type": "execute_result"
    }
   ],
   "source": [
    "df = pd.read_excel('./data_files/products_original.xlsx')\n",
    "df.head()"
   ]
  },
  {
   "cell_type": "code",
   "execution_count": 12,
   "id": "46b7b153",
   "metadata": {},
   "outputs": [],
   "source": [
    "df[['product_id', 'price']].to_csv('./data_files/prices.csv', index=False)"
   ]
  },
  {
   "cell_type": "code",
   "execution_count": 13,
   "id": "8270d18d",
   "metadata": {},
   "outputs": [],
   "source": [
    "df[['product_id', 'cost']].to_csv('./data_files/costs.csv', index=False)"
   ]
  },
  {
   "cell_type": "code",
   "execution_count": 21,
   "id": "14c406ca",
   "metadata": {},
   "outputs": [],
   "source": [
    "df['category_id'] = df['category'].map({'артефакторика': 1, 'зелья': 2, 'яства': 3})"
   ]
  },
  {
   "cell_type": "code",
   "execution_count": 22,
   "id": "890e8076",
   "metadata": {},
   "outputs": [],
   "source": [
    "df[['product_id', 'product_name', 'category_id']].to_csv('./data_files/products.csv', index=False)"
   ]
  },
  {
   "cell_type": "code",
   "execution_count": null,
   "id": "66fb3b5a",
   "metadata": {},
   "outputs": [
    {
     "data": {
      "text/html": [
       "<div>\n",
       "<style scoped>\n",
       "    .dataframe tbody tr th:only-of-type {\n",
       "        vertical-align: middle;\n",
       "    }\n",
       "\n",
       "    .dataframe tbody tr th {\n",
       "        vertical-align: top;\n",
       "    }\n",
       "\n",
       "    .dataframe thead th {\n",
       "        text-align: right;\n",
       "    }\n",
       "</style>\n",
       "<table border=\"1\" class=\"dataframe\">\n",
       "  <thead>\n",
       "    <tr style=\"text-align: right;\">\n",
       "      <th></th>\n",
       "      <th>category_id</th>\n",
       "      <th>category</th>\n",
       "    </tr>\n",
       "  </thead>\n",
       "  <tbody>\n",
       "    <tr>\n",
       "      <th>0</th>\n",
       "      <td>1</td>\n",
       "      <td>артефакторика</td>\n",
       "    </tr>\n",
       "    <tr>\n",
       "      <th>7</th>\n",
       "      <td>2</td>\n",
       "      <td>зелья</td>\n",
       "    </tr>\n",
       "    <tr>\n",
       "      <th>13</th>\n",
       "      <td>3</td>\n",
       "      <td>яства</td>\n",
       "    </tr>\n",
       "  </tbody>\n",
       "</table>\n",
       "</div>"
      ],
      "text/plain": [
       "    category_id       category\n",
       "0             1  артефакторика\n",
       "7             2          зелья\n",
       "13            3          яства"
      ]
     },
     "execution_count": 25,
     "metadata": {},
     "output_type": "execute_result"
    }
   ],
   "source": [
    "df[['category_id', 'category']].drop_duplicates().to_csv('./data_files/categories.csv', index=False)"
   ]
  },
  {
   "cell_type": "code",
   "execution_count": null,
   "id": "aad96308",
   "metadata": {},
   "outputs": [],
   "source": []
  },
  {
   "cell_type": "markdown",
   "id": "09342476",
   "metadata": {},
   "source": [
    "## Функции"
   ]
  },
  {
   "cell_type": "code",
   "execution_count": 18,
   "id": "22f7b6b3",
   "metadata": {},
   "outputs": [],
   "source": [
    "def create_new_users(user_ids: np.array, last_user_id: int, number_of_new_users: int=8, volatility=0.3) -> int:\n",
    "    number_of_new_users += int(number_of_new_users * volatility * random.normalvariate())\n",
    "    if number_of_new_users < 0:\n",
    "        number_of_new_users %= 100\n",
    "    new_users_list = np.array([*range(last_user_id + 1, last_user_id + number_of_new_users + 1)])\n",
    "    user_ids = np.append(user_ids, new_users_list)\n",
    "    np.random.shuffle(new_users_list)\n",
    "    for share in [0.48, 0.33, 0.21, 0.12, 0.04, 0.02]:\n",
    "        user_ids = np.append(user_ids, new_users_list[:int(share * number_of_new_users)])\n",
    "    last_user_id += number_of_new_users\n",
    "    return last_user_id, user_ids"
   ]
  },
  {
   "cell_type": "code",
   "execution_count": 24,
   "id": "8f2c0438",
   "metadata": {},
   "outputs": [
    {
     "data": {
      "text/plain": [
       "(array([1, 1, 2, 3, 4, 5, 6, 7, 6, 4, 1, 6, 4, 6]), 7, 7)"
      ]
     },
     "execution_count": 24,
     "metadata": {},
     "output_type": "execute_result"
    }
   ],
   "source": [
    "user_ids = np.array([1])\n",
    "last_user_id = 1\n",
    "last_user_id, user_ids = create_new_users(user_ids, 0)\n",
    "user_ids, len(set(user_ids)), last_user_id"
   ]
  },
  {
   "cell_type": "code",
   "execution_count": 25,
   "id": "3a5e9f05",
   "metadata": {},
   "outputs": [],
   "source": [
    "def churn_users(user_ids: np.array, churn_rate=0.25, volatility=0.3):\n",
    "    users_id_length = user_ids.size\n",
    "    churn = int(churn_rate * users_id_length)\n",
    "    churn += int(churn * volatility * random.normalvariate())\n",
    "    if churn < 0:\n",
    "        churn %= 100\n",
    "    np.random.shuffle(user_ids)\n",
    "    user_ids = user_ids[churn:]\n",
    "    return churn, user_ids"
   ]
  },
  {
   "cell_type": "code",
   "execution_count": 26,
   "id": "3d9f4e3f",
   "metadata": {},
   "outputs": [],
   "source": [
    "churn, user_ids = churn_users(user_ids)"
   ]
  },
  {
   "cell_type": "code",
   "execution_count": 27,
   "id": "bbf70928",
   "metadata": {},
   "outputs": [
    {
     "data": {
      "text/plain": [
       "(3, array([7, 6, 1, 6, 3, 5, 1, 6, 1, 4, 4]))"
      ]
     },
     "execution_count": 27,
     "metadata": {},
     "output_type": "execute_result"
    }
   ],
   "source": [
    "churn, user_ids"
   ]
  },
  {
   "cell_type": "code",
   "execution_count": 28,
   "id": "549b10f5",
   "metadata": {},
   "outputs": [],
   "source": [
    "def create_order(current_day, order_id, user_id):\n",
    "    print(current_day)"
   ]
  },
  {
   "cell_type": "code",
   "execution_count": 47,
   "id": "11144859",
   "metadata": {},
   "outputs": [],
   "source": [
    "def create_next_day_orders(previous_date, last_order_id: int, purchases_frequency=2, volatility=0.3):\n",
    "    current_day = previous_date + pd.Timedelta(1, 'day')\n",
    "    number_of_purchases = int(user_ids.size * purchases_frequency / 30)\n",
    "    number_of_purchases += int(number_of_purchases * volatility * random.normalvariate())\n",
    "    if number_of_purchases < 0:\n",
    "        number_of_purchases = 0\n",
    "    for i in range(number_of_purchases):\n",
    "        last_order_id += 1\n",
    "        user_id = np.random.choice(user_ids)\n",
    "        create_order(current_day, last_order_id, user_id)\n",
    "    return current_day"
   ]
  },
  {
   "cell_type": "code",
   "execution_count": 54,
   "metadata": {},
   "outputs": [
    {
     "data": {
      "text/plain": [
       "Timestamp('2020-01-01 00:00:00')"
      ]
     },
     "execution_count": 54,
     "metadata": {},
     "output_type": "execute_result"
    }
   ],
   "source": [
    "last_order_id = 0\n",
    "current_day = pd.to_datetime('2019-12-31')\n",
    "create_next_day_orders(current_day, last_order_id)"
   ]
  },
  {
   "cell_type": "code",
   "execution_count": null,
   "id": "5c2e5ccc",
   "metadata": {},
   "outputs": [],
   "source": []
  },
  {
   "cell_type": "code",
   "execution_count": null,
   "id": "f31313f0",
   "metadata": {},
   "outputs": [],
   "source": [
    "df[['product_id', 'cost']].to_csv('./data_files/costs.csv', index=False)"
   ]
  },
  {
   "cell_type": "code",
   "execution_count": null,
   "id": "d627c5f7",
   "metadata": {},
   "outputs": [],
   "source": []
  },
  {
   "cell_type": "code",
   "execution_count": null,
   "metadata": {},
   "outputs": [],
   "source": []
  },
  {
   "cell_type": "markdown",
   "id": "8f83e7cb",
   "metadata": {},
   "source": [
    "Создадим список айдишников товаров, в котором они будут повторяться по несколько раз в зависимости от частоты покупок этого товара:"
   ]
  },
  {
   "cell_type": "code",
   "execution_count": null,
   "id": "87ca0ad5",
   "metadata": {},
   "outputs": [
    {
     "data": {
      "text/plain": [
       "array([ 8, 25, 23, 23, 13, 13,  9, 12, 22, 22])"
      ]
     },
     "execution_count": 4,
     "metadata": {},
     "output_type": "execute_result"
    }
   ],
   "source": [
    "df = pd.read_excel('products.xlsx')\n",
    "\n",
    "product_ids = []\n",
    "for id, freq in zip(df['product_id'], df['freq']):\n",
    "    product_ids.extend([id] * freq)\n",
    "\n",
    "product_ids = np.array(product_ids)\n",
    "product_ids[:10]"
   ]
  },
  {
   "cell_type": "code",
   "execution_count": 5,
   "id": "a6d17506",
   "metadata": {},
   "outputs": [
    {
     "data": {
      "text/html": [
       "<div>\n",
       "<style scoped>\n",
       "    .dataframe tbody tr th:only-of-type {\n",
       "        vertical-align: middle;\n",
       "    }\n",
       "\n",
       "    .dataframe tbody tr th {\n",
       "        vertical-align: top;\n",
       "    }\n",
       "\n",
       "    .dataframe thead th {\n",
       "        text-align: right;\n",
       "    }\n",
       "</style>\n",
       "<table border=\"1\" class=\"dataframe\">\n",
       "  <thead>\n",
       "    <tr style=\"text-align: right;\">\n",
       "      <th></th>\n",
       "      <th>product_id</th>\n",
       "      <th>product_name</th>\n",
       "      <th>category</th>\n",
       "      <th>price</th>\n",
       "      <th>cost</th>\n",
       "      <th>freq</th>\n",
       "    </tr>\n",
       "  </thead>\n",
       "  <tbody>\n",
       "    <tr>\n",
       "      <th>0</th>\n",
       "      <td>8</td>\n",
       "      <td>Гномье кольцо</td>\n",
       "      <td>артефакторика</td>\n",
       "      <td>450</td>\n",
       "      <td>300</td>\n",
       "      <td>1</td>\n",
       "    </tr>\n",
       "    <tr>\n",
       "      <th>1</th>\n",
       "      <td>25</td>\n",
       "      <td>Ёлка-палка</td>\n",
       "      <td>артефакторика</td>\n",
       "      <td>300</td>\n",
       "      <td>200</td>\n",
       "      <td>1</td>\n",
       "    </tr>\n",
       "    <tr>\n",
       "      <th>2</th>\n",
       "      <td>23</td>\n",
       "      <td>Жало</td>\n",
       "      <td>артефакторика</td>\n",
       "      <td>650</td>\n",
       "      <td>450</td>\n",
       "      <td>2</td>\n",
       "    </tr>\n",
       "    <tr>\n",
       "      <th>3</th>\n",
       "      <td>13</td>\n",
       "      <td>Кольцо нибелунга</td>\n",
       "      <td>артефакторика</td>\n",
       "      <td>800</td>\n",
       "      <td>550</td>\n",
       "      <td>2</td>\n",
       "    </tr>\n",
       "    <tr>\n",
       "      <th>4</th>\n",
       "      <td>9</td>\n",
       "      <td>Нарсил</td>\n",
       "      <td>артефакторика</td>\n",
       "      <td>700</td>\n",
       "      <td>450</td>\n",
       "      <td>1</td>\n",
       "    </tr>\n",
       "  </tbody>\n",
       "</table>\n",
       "</div>"
      ],
      "text/plain": [
       "   product_id      product_name       category  price  cost  freq\n",
       "0           8     Гномье кольцо  артефакторика    450   300     1\n",
       "1          25        Ёлка-палка  артефакторика    300   200     1\n",
       "2          23              Жало  артефакторика    650   450     2\n",
       "3          13  Кольцо нибелунга  артефакторика    800   550     2\n",
       "4           9            Нарсил  артефакторика    700   450     1"
      ]
     },
     "execution_count": 5,
     "metadata": {},
     "output_type": "execute_result"
    }
   ],
   "source": [
    "df.head()"
   ]
  },
  {
   "cell_type": "code",
   "execution_count": null,
   "id": "20e184cc",
   "metadata": {},
   "outputs": [],
   "source": []
  },
  {
   "cell_type": "code",
   "execution_count": null,
   "metadata": {},
   "outputs": [],
   "source": []
  },
  {
   "cell_type": "code",
   "execution_count": null,
   "id": "60c073ba",
   "metadata": {},
   "outputs": [],
   "source": []
  },
  {
   "cell_type": "code",
   "execution_count": null,
   "id": "0d5cbf02",
   "metadata": {},
   "outputs": [],
   "source": []
  },
  {
   "cell_type": "code",
   "execution_count": null,
   "id": "ad1cd269",
   "metadata": {},
   "outputs": [],
   "source": []
  },
  {
   "cell_type": "code",
   "execution_count": null,
   "id": "8a12b7d1",
   "metadata": {},
   "outputs": [],
   "source": []
  },
  {
   "cell_type": "code",
   "execution_count": null,
   "id": "35843531",
   "metadata": {},
   "outputs": [],
   "source": []
  }
 ],
 "metadata": {
  "kernelspec": {
   "display_name": "base",
   "language": "python",
   "name": "python3"
  },
  "language_info": {
   "codemirror_mode": {
    "name": "ipython",
    "version": 3
   },
   "file_extension": ".py",
   "mimetype": "text/x-python",
   "name": "python",
   "nbconvert_exporter": "python",
   "pygments_lexer": "ipython3",
   "version": "3.12.7"
  }
 },
 "nbformat": 4,
 "nbformat_minor": 5
}
