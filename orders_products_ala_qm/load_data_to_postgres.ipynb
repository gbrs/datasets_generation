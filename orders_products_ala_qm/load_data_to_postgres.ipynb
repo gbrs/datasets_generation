{
 "cells": [
  {
   "cell_type": "code",
   "execution_count": null,
   "id": "2f496d0d",
   "metadata": {},
   "outputs": [],
   "source": [
    "import numpy as np\n",
    "import pandas as pd\n",
    "import matplotlib.pyplot as plt\n",
    "import seaborn as sns"
   ]
  },
  {
   "cell_type": "code",
   "execution_count": null,
   "id": "620e6df7",
   "metadata": {},
   "outputs": [],
   "source": [
    "import psycopg2\n",
    "from sqlalchemy import create_engine\n",
    "from sqlalchemy import URL"
   ]
  },
  {
   "cell_type": "code",
   "execution_count": null,
   "metadata": {},
   "outputs": [],
   "source": [
    "from config import postgresql_home "
   ]
  },
  {
   "cell_type": "code",
   "execution_count": null,
   "id": "0b149e1a",
   "metadata": {},
   "outputs": [],
   "source": [
    "sql_create_query = '''\n",
    "    CREATE TABLE IF NOT EXISTS cube (\n",
    "        Чеболь       VARCHAR(64), \n",
    "        Промысел     VARCHAR(64), \n",
    "        Царство      VARCHAR(64), \n",
    "        Сумма_продаж DECIMAL(10, 2)\n",
    "    )\n",
    "'''"
   ]
  },
  {
   "cell_type": "code",
   "execution_count": null,
   "metadata": {},
   "outputs": [],
   "source": [
    "with psycopg2.connect(\n",
    "            host=postgresql_home['host'],\n",
    "            user=postgresql_home['user'], \n",
    "            password=postgresql_home['password'],\n",
    "            database=postgresql_home['database']\n",
    "            ) as connection:\n",
    "    with connection.cursor() as cursor:\n",
    "        cursor.execute(sql_create_query)"
   ]
  },
  {
   "cell_type": "code",
   "execution_count": null,
   "id": "41ad3d34",
   "metadata": {},
   "outputs": [],
   "source": [
    "url_object = URL.create(\n",
    "    \"postgresql+psycopg2\",\n",
    "    username=postgresql_home['user'],\n",
    "    password=postgresql_home['password'], \n",
    "    host=postgresql_home['host'],\n",
    "    port=postgresql_home['port'],\n",
    "    database='competition_analysis',\n",
    ")"
   ]
  },
  {
   "cell_type": "code",
   "execution_count": null,
   "id": "d1febf46",
   "metadata": {},
   "outputs": [],
   "source": [
    "engine = create_engine(url_object)"
   ]
  },
  {
   "cell_type": "code",
   "execution_count": null,
   "id": "8ecffeeb",
   "metadata": {},
   "outputs": [],
   "source": [
    "cube.to_sql(\n",
    "    name='cube', # имя таблицы\n",
    "    con=engine,  # движок\n",
    "    if_exists=\"replace\", # если в таблице данные уже есть, заменяем их\n",
    "    index=False # без индекса датафрейма\n",
    ")"
   ]
  },
  {
   "cell_type": "code",
   "execution_count": null,
   "id": "07e77a6a",
   "metadata": {},
   "outputs": [],
   "source": []
  },
  {
   "cell_type": "code",
   "execution_count": null,
   "id": "ffa61895",
   "metadata": {},
   "outputs": [],
   "source": []
  },
  {
   "cell_type": "code",
   "execution_count": null,
   "id": "4d8fc4c5",
   "metadata": {},
   "outputs": [],
   "source": []
  },
  {
   "cell_type": "code",
   "execution_count": null,
   "id": "2c823e91",
   "metadata": {},
   "outputs": [],
   "source": []
  }
 ],
 "metadata": {
  "language_info": {
   "name": "python"
  }
 },
 "nbformat": 4,
 "nbformat_minor": 5
}
